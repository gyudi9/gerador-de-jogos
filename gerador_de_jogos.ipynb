{
  "nbformat": 4,
  "nbformat_minor": 0,
  "metadata": {
    "colab": {
      "provenance": []
    },
    "kernelspec": {
      "name": "python3",
      "display_name": "Python 3"
    },
    "language_info": {
      "name": "python"
    }
  },
  "cells": [
    {
      "cell_type": "code",
      "source": [
        "%pip -q install google-genai"
      ],
      "metadata": {
        "id": "UCCbECexLk_h"
      },
      "execution_count": 2,
      "outputs": []
    },
    {
      "cell_type": "code",
      "source": [
        "# Configura a API Key do Google Gemini\n",
        "\n",
        "import os\n",
        "from google.colab import userdata\n",
        "\n",
        "os.environ[\"GOOGLE_API_KEY\"] = userdata.get('GOOGLE_API_KEY')"
      ],
      "metadata": {
        "id": "NfCqHo1tLk8P"
      },
      "execution_count": 3,
      "outputs": []
    },
    {
      "cell_type": "code",
      "source": [
        "# Configura o cliente da SDK do Gemini\n",
        "\n",
        "from google import genai\n",
        "\n",
        "client = genai.Client()\n",
        "\n",
        "MODEL_ID = \"gemini-2.0-flash\""
      ],
      "metadata": {
        "id": "bV4w0H5TLk5g"
      },
      "execution_count": 4,
      "outputs": []
    },
    {
      "cell_type": "code",
      "source": [
        "# Instalar Framework ADK de agentes do Google ################################################\n",
        "!pip -q install google-adk"
      ],
      "metadata": {
        "id": "hvZ3UnPI4jhJ",
        "colab": {
          "base_uri": "https://localhost:8080/"
        },
        "outputId": "6668168b-3b0c-45b0-b44c-da8b9ead557a"
      },
      "execution_count": 8,
      "outputs": [
        {
          "output_type": "stream",
          "name": "stdout",
          "text": [
            "\u001b[?25l   \u001b[90m━━━━━━━━━━━━━━━━━━━━━━━━━━━━━━━━━━━━━━━━\u001b[0m \u001b[32m0.0/1.2 MB\u001b[0m \u001b[31m?\u001b[0m eta \u001b[36m-:--:--\u001b[0m\r\u001b[2K   \u001b[90m━━━━━━━━━━━━━━━━━━━━━━━━━━━━━━━━━━━━━━━━\u001b[0m \u001b[32m1.2/1.2 MB\u001b[0m \u001b[31m46.9 MB/s\u001b[0m eta \u001b[36m0:00:00\u001b[0m\n",
            "\u001b[?25h\u001b[?25l   \u001b[90m━━━━━━━━━━━━━━━━━━━━━━━━━━━━━━━━━━━━━━━━\u001b[0m \u001b[32m0.0/232.1 kB\u001b[0m \u001b[31m?\u001b[0m eta \u001b[36m-:--:--\u001b[0m\r\u001b[2K   \u001b[90m━━━━━━━━━━━━━━━━━━━━━━━━━━━━━━━━━━━━━━━━\u001b[0m \u001b[32m232.1/232.1 kB\u001b[0m \u001b[31m15.0 MB/s\u001b[0m eta \u001b[36m0:00:00\u001b[0m\n",
            "\u001b[?25h\u001b[?25l   \u001b[90m━━━━━━━━━━━━━━━━━━━━━━━━━━━━━━━━━━━━━━━━\u001b[0m \u001b[32m0.0/95.2 kB\u001b[0m \u001b[31m?\u001b[0m eta \u001b[36m-:--:--\u001b[0m\r\u001b[2K   \u001b[90m━━━━━━━━━━━━━━━━━━━━━━━━━━━━━━━━━━━━━━━━\u001b[0m \u001b[32m95.2/95.2 kB\u001b[0m \u001b[31m7.5 MB/s\u001b[0m eta \u001b[36m0:00:00\u001b[0m\n",
            "\u001b[?25h\u001b[?25l   \u001b[90m━━━━━━━━━━━━━━━━━━━━━━━━━━━━━━━━━━━━━━━━\u001b[0m \u001b[32m0.0/217.1 kB\u001b[0m \u001b[31m?\u001b[0m eta \u001b[36m-:--:--\u001b[0m\r\u001b[2K   \u001b[90m━━━━━━━━━━━━━━━━━━━━━━━━━━━━━━━━━━━━━━━━\u001b[0m \u001b[32m217.1/217.1 kB\u001b[0m \u001b[31m16.0 MB/s\u001b[0m eta \u001b[36m0:00:00\u001b[0m\n",
            "\u001b[?25h\u001b[?25l   \u001b[90m━━━━━━━━━━━━━━━━━━━━━━━━━━━━━━━━━━━━━━━━\u001b[0m \u001b[32m0.0/334.1 kB\u001b[0m \u001b[31m?\u001b[0m eta \u001b[36m-:--:--\u001b[0m\r\u001b[2K   \u001b[90m━━━━━━━━━━━━━━━━━━━━━━━━━━━━━━━━━━━━━━━━\u001b[0m \u001b[32m334.1/334.1 kB\u001b[0m \u001b[31m25.5 MB/s\u001b[0m eta \u001b[36m0:00:00\u001b[0m\n",
            "\u001b[?25h\u001b[?25l   \u001b[90m━━━━━━━━━━━━━━━━━━━━━━━━━━━━━━━━━━━━━━━━\u001b[0m \u001b[32m0.0/125.1 kB\u001b[0m \u001b[31m?\u001b[0m eta \u001b[36m-:--:--\u001b[0m\r\u001b[2K   \u001b[90m━━━━━━━━━━━━━━━━━━━━━━━━━━━━━━━━━━━━━━━━\u001b[0m \u001b[32m125.1/125.1 kB\u001b[0m \u001b[31m9.9 MB/s\u001b[0m eta \u001b[36m0:00:00\u001b[0m\n",
            "\u001b[2K   \u001b[90m━━━━━━━━━━━━━━━━━━━━━━━━━━━━━━━━━━━━━━━━\u001b[0m \u001b[32m65.8/65.8 kB\u001b[0m \u001b[31m5.0 MB/s\u001b[0m eta \u001b[36m0:00:00\u001b[0m\n",
            "\u001b[2K   \u001b[90m━━━━━━━━━━━━━━━━━━━━━━━━━━━━━━━━━━━━━━━━\u001b[0m \u001b[32m119.0/119.0 kB\u001b[0m \u001b[31m9.0 MB/s\u001b[0m eta \u001b[36m0:00:00\u001b[0m\n",
            "\u001b[2K   \u001b[90m━━━━━━━━━━━━━━━━━━━━━━━━━━━━━━━━━━━━━━━━\u001b[0m \u001b[32m194.9/194.9 kB\u001b[0m \u001b[31m14.0 MB/s\u001b[0m eta \u001b[36m0:00:00\u001b[0m\n",
            "\u001b[2K   \u001b[90m━━━━━━━━━━━━━━━━━━━━━━━━━━━━━━━━━━━━━━━━\u001b[0m \u001b[32m62.5/62.5 kB\u001b[0m \u001b[31m3.7 MB/s\u001b[0m eta \u001b[36m0:00:00\u001b[0m\n",
            "\u001b[2K   \u001b[90m━━━━━━━━━━━━━━━━━━━━━━━━━━━━━━━━━━━━━━━━\u001b[0m \u001b[32m103.3/103.3 kB\u001b[0m \u001b[31m7.5 MB/s\u001b[0m eta \u001b[36m0:00:00\u001b[0m\n",
            "\u001b[2K   \u001b[90m━━━━━━━━━━━━━━━━━━━━━━━━━━━━━━━━━━━━━━━━\u001b[0m \u001b[32m44.4/44.4 kB\u001b[0m \u001b[31m3.2 MB/s\u001b[0m eta \u001b[36m0:00:00\u001b[0m\n",
            "\u001b[2K   \u001b[90m━━━━━━━━━━━━━━━━━━━━━━━━━━━━━━━━━━━━━━━━\u001b[0m \u001b[32m72.0/72.0 kB\u001b[0m \u001b[31m4.9 MB/s\u001b[0m eta \u001b[36m0:00:00\u001b[0m\n",
            "\u001b[?25h"
          ]
        }
      ]
    },
    {
      "cell_type": "code",
      "execution_count": 9,
      "metadata": {
        "id": "aePV2bdfDeoW"
      },
      "outputs": [],
      "source": [
        "from google.adk.agents import Agent\n",
        "from google.adk.runners import Runner\n",
        "from google.adk.sessions import InMemorySessionService\n",
        "from google.adk.tools import google_search\n",
        "from google.genai import types  # Para criar conteúdos (Content e Part)\n",
        "from datetime import date\n",
        "import textwrap # Para formatar melhor a saída de texto\n",
        "from IPython.display import display, Markdown # Para exibir texto formatado no Colab\n",
        "import requests # Para fazer requisições HTTP\n",
        "import warnings\n",
        "\n",
        "warnings.filterwarnings(\"ignore\")"
      ]
    },
    {
      "cell_type": "code",
      "source": [
        "# Função auxiliar que envia uma mensagem para um agente via Runner e retorna a resposta final\n",
        "def call_agent(agent: Agent, message_text: str) -> str:\n",
        "    # Cria um serviço de sessão em memória\n",
        "    session_service = InMemorySessionService()\n",
        "    # Cria uma nova sessão (você pode personalizar os IDs conforme necessário)\n",
        "    session = session_service.create_session(app_name=agent.name, user_id=\"user1\", session_id=\"session1\")\n",
        "    # Cria um Runner para o agente\n",
        "    runner = Runner(agent=agent, app_name=agent.name, session_service=session_service)\n",
        "    # Cria o conteúdo da mensagem de entrada\n",
        "    content = types.Content(role=\"user\", parts=[types.Part(text=message_text)])\n",
        "\n",
        "    final_response = \"\"\n",
        "    # Itera assincronamente pelos eventos retornados durante a execução do agente\n",
        "    for event in runner.run(user_id=\"user1\", session_id=\"session1\", new_message=content):\n",
        "        if event.is_final_response():\n",
        "          for part in event.content.parts:\n",
        "            if part.text is not None:\n",
        "              final_response += part.text\n",
        "              final_response += \"\\n\"\n",
        "    return final_response"
      ],
      "metadata": {
        "id": "_xP4lWhsS5ko"
      },
      "execution_count": 10,
      "outputs": []
    },
    {
      "cell_type": "code",
      "source": [
        "# Função auxiliar para exibir texto formatado em Markdown no Colab\n",
        "def to_markdown(text):\n",
        "  text = text.replace('•', '  *')\n",
        "  return Markdown(textwrap.indent(text, '> ', predicate=lambda _: True))"
      ],
      "metadata": {
        "id": "8dosiodaxfFR"
      },
      "execution_count": 11,
      "outputs": []
    },
    {
      "cell_type": "code",
      "source": [
        "##########################################\n",
        "# --- Agente 1: Redator de histórias --- #\n",
        "##########################################\n",
        "\n",
        "def agente_redator(topico, nome_personagem_principal):\n",
        "  redator = Agent(\n",
        "      name = \"agente_redator\",\n",
        "      model = \"gemini-2.0-flash\",\n",
        "      description = \"Agente que escreve histórias\",\n",
        "      tools = [google_search],\n",
        "      instruction = \"\"\"\n",
        "      Você é um criador de histórias especializado em construir narrativas originais e envolventes.\n",
        "      Receberá um tema e o nome do personagem principal.\n",
        "      Sua tarefa é criar uma história completa, com início, desenvolvimento e fim, que possa futuramente ser convertida em um jogo no estilo “Escolha sua Aventura”.\n",
        "      A história deve conter:\n",
        "      Um protagonista bem definido (nome já fornecido)\n",
        "      Uma ambientação clara e criativa\n",
        "      Elementos de tensão, conflito e progressão narrativa\n",
        "      Dilemas morais ou desafios com múltiplas possibilidades de desfecho\n",
        "      Um enredo com acontecimentos significativos que permitam uma posterior ramificação em decisões\n",
        "      3 possíveis finais diferentes (ex: um bom, um ruim, um neutro), com caminhos lógicos que conduzem a cada um deles\n",
        "      Escreva como se fosse um conto, com narrativa linear\n",
        "      Pesquise no Google (google_search) histórias com esse tema para ajudar a servir de base.\n",
        "      \"\"\"\n",
        "  )\n",
        "  entrada_do_agente_redator = f\"Tema: {tema}\\nNome do personagem principal: {nome_personagem_principal}\"\n",
        "  roteiro = call_agent(redator, entrada_do_agente_redator)\n",
        "  return roteiro"
      ],
      "metadata": {
        "id": "o8bqIfi_DyH8"
      },
      "execution_count": 28,
      "outputs": []
    },
    {
      "cell_type": "code",
      "source": [
        "################################################\n",
        "# --- Agente 2: Conversor  --- #\n",
        "################################################\n",
        "def agente_conversor(tema, roteiro_inicial):\n",
        "    conversor = Agent(\n",
        "        name=\"agente_conversor\",\n",
        "        model=\"gemini-2.0-flash\",\n",
        "        instruction=\"\"\"\n",
        "        Você é um designer de narrativas interativas e especialista em transformar histórias tradicionais em jogos do tipo \"Escolha sua Aventura\".\n",
        "        Receberá como entrada uma história linear completa, com início, meio e fim, incluindo múltiplos finais possíveis.\n",
        "        Sua tarefa é converter essa história em um roteiro estruturado de jogo interativo, onde o jogador poderá tomar decisões que afetam o rumo da narrativa.\n",
        "        Para isso, siga estas instruções:\n",
        "        1. Divida a história em cenas interativas numeradas (por exemplo: Cena 1, Cena 2...)\n",
        "        Cada cena deve ter:\n",
        "        Uma descrição imersiva do momento atual\n",
        "        De 2 a 4 opções de escolha para o jogador\n",
        "        Para cada escolha, defina:\n",
        "        Um texto da escolha (o que o jogador está fazendo)\n",
        "        A consequência imediata (em uma linha)\n",
        "        Para onde essa escolha leva (ex: Cena 2A, Cena 3B etc.)\n",
        "        2. Crie caminhos ramificados:\n",
        "        Permita que algumas escolhas levem a caminhos alternativos com eventos exclusivos.\n",
        "        Inclua oportunidades de ganhar itens, aliados ou informações.\n",
        "        Algumas escolhas podem encerrar o jogo (finais bons, ruins ou neutros).\n",
        "        \"\"\",\n",
        "        description=\"Agente que converte histórias no estilo Escolha sua Aventura\",\n",
        "        tools=[google_search]\n",
        "    )\n",
        "\n",
        "    entrada_do_agente_conversor = f\"Tema:{tema}\\nRoteiro inicial: {roteiro_inicial}\"\n",
        "    # Executa o agente\n",
        "    roteiro_adaptado = call_agent(conversor, entrada_do_agente_conversor)\n",
        "    return roteiro_adaptado"
      ],
      "metadata": {
        "id": "y3VO1uo5_ghO"
      },
      "execution_count": 29,
      "outputs": []
    },
    {
      "cell_type": "code",
      "source": [
        "######################################\n",
        "# --- Agente 3: Revisor --- #\n",
        "######################################\n",
        "def agente_revisor(tema, roteiro_adaptado):\n",
        "    revisor = Agent(\n",
        "        name=\"agente_redator\",\n",
        "        model=\"gemini-2.0-flash\",\n",
        "        instruction=\"\"\"\n",
        "            Você é um revisor de narrativa interativa com foco em tom, emoção e coerência lógica.\n",
        "            Receberá um roteiro com cenas e decisões ramificadas para um jogo estilo \"Escolha sua Aventura\".\n",
        "            Sua tarefa é revisar o conteúdo de forma completa:\n",
        "            Verifique se cada decisão leva a uma consequência coerente e lógica.\n",
        "            Enriqueça a narrativa com tom emocional adequado: suspense, humor, tensão, drama ou alívio.\n",
        "            Torne as cenas mais imersivas com descrições vívidas, diálogos ou metáforas (sem exagero).\n",
        "            Inclua elementos adicionais se fizerem sentido (ex: pistas ocultas, interações inesperadas, novos itens).\n",
        "            \"\"\",\n",
        "        description=\"Agente revisor\"\n",
        "    )\n",
        "    entrada_do_agente_revisor = f\"Tema: {tema}\\nRoteiro Adaptado: {roteiro_adaptado}\"\n",
        "    # Executa o agente\n",
        "    roteiro_revisado = call_agent(revisor, entrada_do_agente_revisor)\n",
        "    return roteiro_revisado"
      ],
      "metadata": {
        "id": "uOqlg2TRLVh1"
      },
      "execution_count": 30,
      "outputs": []
    },
    {
      "cell_type": "code",
      "source": [
        "##########################################\n",
        "# --- Agente 4: Gerador de código --- #\n",
        "##########################################\n",
        "def agente_gerador(tema, roteiro_revisado):\n",
        "    gerador = Agent(\n",
        "        name=\"agente_gerador\",\n",
        "        model=\"gemini-2.0-flash\",\n",
        "        instruction=\"\"\"\n",
        "            Você é um gerador de código Python que transforma histórias interativas revisadas em jogos completos de \"Escolha sua Aventura\", jogáveis via terminal.\n",
        "\n",
        "            Você irá receber um roteiro revisado com múltiplos caminhos e transformar em um jogo funcional, imersivo e bem estruturado em Python.\n",
        "\n",
        "            O jogo deve:\n",
        "            Utilizar print(), input() e uma função slow_print() (com time.sleep) para imprimir o texto com clima narrativo.\n",
        "            Ter múltiplas cenas com diversas escolhas por nó (2 a 4 opções).\n",
        "            Utilizar uma estrutura lógica clara e modular, com variáveis como nós ou cenas, cada uma com:\n",
        "            Texto da cena\n",
        "            Lista de escolhas\n",
        "            Transições (nó destino)\n",
        "            Permitir a existência de:\n",
        "            Itens adquiríveis (ex: inventário com amuletos, armas, chaves, etc.)\n",
        "            Condicionais baseadas em itens (ex: \"se tiver chave, abrir porta secreta\")\n",
        "            Finalizações diversas (bons, ruins, neutros)\n",
        "            Condições lógicas simples ou múltiplas para decisões\n",
        "            Permitir que o jogador jogue novamente ao final.\n",
        "            Não precisa seguir exatamente uma estrutura fixa, mas o jogo deve estar completo e funcional em um único arquivo .py, legível, com boa divisão de blocos de código.\n",
        "\n",
        "            Evite usar bibliotecas externas além de time e sys.\n",
        "            \"\"\",\n",
        "        description=\"Agente gerador de código Python\"\n",
        "    )\n",
        "    entrada_do_agente_gerador = f\"Tema: {tema}\\nRoteiro Revisado: {roteiro_revisado}\"\n",
        "    # Executa o agente\n",
        "    codigo_final = call_agent(gerador, entrada_do_agente_gerador)\n",
        "    return codigo_final"
      ],
      "metadata": {
        "id": "_aTb1SdkLeT6"
      },
      "execution_count": 31,
      "outputs": []
    },
    {
      "cell_type": "code",
      "source": [
        "print(\"🚀 Iniciando o Sistema de Criação de Jogos com 4 Agentes 🚀\")\n",
        "\n",
        "# --- Obter o Tema do Usuário ---\n",
        "tema = input(\"❓ Por favor, digite o TEMA sobre o jogo em que você deseja criar: \")\n",
        "nome_personagem_principal = input(\"❓ Por favor, digite o NOME do PERSONAGEM PRINCIPAL do seu jogo: \")\n",
        "\n",
        "if not tema:\n",
        "  print(\"Você esqueceu de digitar o tópico!\")\n",
        "\n",
        "if not nome_personagem_principal:\n",
        "  print(\"Você esqueceu de digitar o nome do personagem principal!\")\n",
        "else:\n",
        "  print(f\"Maravilha! Vamos então criar o jogo do {nome_personagem_principal} sobre o {tema}!!\")\n",
        "\n",
        "  roteiro_inicial = agente_redator(tema, nome_personagem_principal)\n",
        "  print(\"\\n--- Resultado do Agente 1 ---\\n\")\n",
        "  display(to_markdown(roteiro_inicial))\n",
        "  print(\"--------------------------------------------------------------\")\n",
        "\n",
        "  roteiro_adaptado = agente_conversor(tema, roteiro_inicial)\n",
        "  print(\"\\n--- Resultado do Agente 2 ---\\n\")\n",
        "  display(to_markdown(roteiro_adaptado))\n",
        "  print(\"--------------------------------------------------------------\")\n",
        "\n",
        "  roteiro_revisado = agente_revisor(tema, roteiro_adaptado)\n",
        "  print(\"\\n--- Resultado do Agente 3 ---\\n\")\n",
        "  display(to_markdown(roteiro_revisado))\n",
        "  print(\"--------------------------------------------------------------\")\n",
        "\n",
        "  código_final = agente_gerador(tema, roteiro_revisado)\n",
        "  print(\"\\n--- Resultado do Agente 4 ---\\n\")\n",
        "  display(to_markdown(código_final))\n"
      ],
      "metadata": {
        "id": "630ummxz4myx",
        "colab": {
          "base_uri": "https://localhost:8080/"
        },
        "outputId": "6a60a6d6-1f60-474d-cc49-dc83a1644571"
      },
      "execution_count": 34,
      "outputs": [
        {
          "output_type": "stream",
          "name": "stdout",
          "text": [
            "🚀 Iniciando o Sistema de Criação de Jogos com 4 Agentes 🚀\n",
            "❓ Por favor, digite o TEMA sobre o jogo em que você deseja criar: a\n",
            "❓ Por favor, digite o NOME do PERSONAGEM PRINCIPAL do seu jogo: \n",
            "Você esqueceu de digitar o nome do personagem principal!\n"
          ]
        }
      ]
    }
  ]
}